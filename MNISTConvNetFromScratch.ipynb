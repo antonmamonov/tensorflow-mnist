{
 "cells": [
  {
   "cell_type": "code",
   "execution_count": 1,
   "metadata": {
    "collapsed": false
   },
   "outputs": [
    {
     "name": "stdout",
     "output_type": "stream",
     "text": [
      "Extracting MNIST_data/train-images-idx3-ubyte.gz\n",
      "Extracting MNIST_data/train-labels-idx1-ubyte.gz\n",
      "Extracting MNIST_data/t10k-images-idx3-ubyte.gz\n",
      "Extracting MNIST_data/t10k-labels-idx1-ubyte.gz\n"
     ]
    }
   ],
   "source": [
    "%matplotlib inline\n",
    "import numpy as np\n",
    "import tensorflow as tf\n",
    "from tensorflow.examples.tutorials.mnist import input_data\n",
    "from matplotlib import pyplot as plt\n",
    "\n",
    "mnist = input_data.read_data_sets(\"MNIST_data/\", one_hot=True)\n",
    "trX, trY, teX, teY = mnist.train.images, mnist.train.labels, mnist.test.images, mnist.test.labels"
   ]
  },
  {
   "cell_type": "code",
   "execution_count": null,
   "metadata": {
    "collapsed": true
   },
   "outputs": [],
   "source": []
  },
  {
   "cell_type": "code",
   "execution_count": 2,
   "metadata": {
    "collapsed": false
   },
   "outputs": [
    {
     "name": "stdout",
     "output_type": "stream",
     "text": [
      "[ 0.  1.  0.  0.  0.  0.  0.  0.  0.  0.]\n"
     ]
    },
    {
     "data": {
      "image/png": "[encoded data removed]",
      "text/plain": [
       "<matplotlib.figure.Figure at 0x7fb76c1c1b10>"
      ]
     },
     "metadata": {},
     "output_type": "display_data"
    }
   ],
   "source": [
    "imageSize = 28\n",
    "viewImageIndex = 4\n",
    "\n",
    "random_image = np.reshape(trX[viewImageIndex],(imageSize,imageSize))\n",
    "\n",
    "plt.imshow(random_image, cmap='gray', interpolation='nearest');\n",
    "print trY[viewImageIndex]"
   ]
  },
  {
   "cell_type": "code",
   "execution_count": null,
   "metadata": {
    "collapsed": false
   },
   "outputs": [
    {
     "name": "stdout",
     "output_type": "stream",
     "text": [
      "output will be 24\n",
      "output will be 8\n",
      "took 3 secs to get all filters\n",
      "total inputFilters 576\n",
      "took 4 secs to compute 0 filter\n",
      "took 4 secs to compute 1 filter\n",
      "took 4 secs to compute 2 filter\n",
      "took 0 secs to get all filters\n",
      "total inputFilters 64\n",
      "took 0 secs to compute 0 filter\n",
      "took 0 secs to compute 1 filter\n",
      "took 0 secs to compute 2 filter\n",
      "123123\n",
      "asdfqwer1\n",
      "asdfqwer2\n",
      "running\n",
      "0.900006426573\n",
      "0.900000703096\n",
      "0.899995369911\n",
      "0.899989893436\n",
      "0.899983739138\n",
      "0.8999762609\n",
      "0.899966805458\n",
      "0.899954504013\n",
      "0.899938243389\n",
      "0.899916572809\n",
      "0.89988769865\n",
      "0.899849273682\n",
      "0.899798400164\n",
      "0.899731750011\n",
      "0.899645463943\n",
      "0.898178170919\n",
      "0.897992873907\n",
      "0.897834517479\n",
      "0.897700048447\n",
      "0.89758052206\n",
      "0.897462118387\n",
      "0.897327789068\n",
      "0.897154291391\n"
     ]
    },
    {
     "data": {
      "image/png": "[encoded data removed]",
      "text/plain": [
       "<matplotlib.figure.Figure at 0x7fb6e9d8b350>"
      ]
     },
     "metadata": {},
     "output_type": "display_data"
    }
   ],
   "source": [
    "import math\n",
    "tf.reset_default_graph()\n",
    "import time\n",
    "\n",
    "numInputs = 28 ** 2\n",
    "numOutputs = 10\n",
    "learningRate = 0.01\n",
    "epoch = 30\n",
    "sess = tf.Session(config=tf.ConfigProto(log_device_placement=True))\n",
    "\n",
    "def init_weights(shape):\n",
    "    return tf.Variable(tf.random_normal(shape, stddev=0.01))\n",
    "\n",
    "class convLayer():\n",
    "    def __init__(self,numFilters,filterSize,stride,inputSize,numInputs):\n",
    "        self.filters = []\n",
    "        self.stride = stride\n",
    "        self.inputSize = inputSize\n",
    "        self.filterSize = filterSize\n",
    "        self.numFilters = numFilters\n",
    "        self.outputSize = ((inputSize - filterSize)/stride+1)\n",
    "        self.numInputs = numInputs\n",
    "        \n",
    "        self.bias = init_weights((1,1))\n",
    "    \n",
    "        if not int(self.outputSize) == round(self.outputSize):\n",
    "            print \"outputSize is not a int!\"\n",
    "        \n",
    "        print \"output will be %d\" % self.outputSize\n",
    "    \n",
    "        for n in range(numFilters):\n",
    "            filterMat = init_weights((numInputs,filterSize,filterSize))\n",
    "            self.filters.append(filterMat)\n",
    "    \n",
    "    def getAllInputFilters(self,inputMatrix):\n",
    "        inputFilters = []\n",
    "\n",
    "        horizontalOffset = int(math.floor(self.filterSize / 2))\n",
    "        \n",
    "        startTime = time.time()\n",
    "        for verticalPass in range(self.outputSize):\n",
    "            verticalPass2 = verticalPass * self.stride\n",
    "            \n",
    "            for horizontalPass in range(self.outputSize):\n",
    "                horizontalPass2 = horizontalPass * self.stride\n",
    "                midPoint = horizontalPass2 + horizontalOffset\n",
    "                \n",
    "                inputFilter = []\n",
    "                for numInput in range(self.numInputs):\n",
    "                    filterInputElem = inputMatrix[numInput, midPoint-horizontalOffset : midPoint+horizontalOffset+1,verticalPass2 : verticalPass2+self.filterSize]\n",
    "                    inputFilter.append(filterInputElem)\n",
    "\n",
    "                inputFilters.append(tf.pack(inputFilter))\n",
    "            \n",
    "        self.lenFilter = len(inputFilters)\n",
    "        \n",
    "        print \"took %d secs to get all filters\" % (time.time() - startTime)\n",
    "        return tf.pack(inputFilters)\n",
    "    \n",
    "    def forwardProp(self,inputFilters):\n",
    "        \n",
    "        outputMats = []\n",
    "        \n",
    "        print(\"total inputFilters %d\" % self.lenFilter)\n",
    "        \n",
    "        for nn,filterMap in enumerate(self.filters):\n",
    "            startTime = time.time()\n",
    "            outputArr = []\n",
    "            for n in range(self.lenFilter):\n",
    "                out = tf.add(tf.reduce_sum(tf.mul(inputFilters[n],filterMap)),self.bias)\n",
    "                outputArr.append(out)\n",
    "            outputMats.append(outputArr)\n",
    "            print \"took %d secs to compute %d filter\" % ((time.time() - startTime) , nn)\n",
    "        \n",
    "        return tf.reshape(outputMats,[self.numFilters,self.outputSize,self.outputSize])\n",
    "\n",
    "class maxPoolingLayer():\n",
    "    def __init__(self,numFilters,filterSize,inputSize):\n",
    "        self.filterSize = filterSize\n",
    "        self.inputSize = inputSize\n",
    "        self.numFilters = numFilters\n",
    "        self.filterPasses = inputSize / filterSize\n",
    "        self.outputSize = inputSize / filterSize\n",
    "    \n",
    "    def getMaxPool(self,inputTensor):\n",
    "        outputTensors = []\n",
    "        \n",
    "        for filterIndex in range(self.numFilters):\n",
    "            outputTensor = []\n",
    "            for h in range(self.filterPasses):\n",
    "                for v in range(self.filterPasses):\n",
    "                    outputTensor.append(tf.nn.relu(tf.reduce_max(inputTensor[filterIndex,h * self.filterSize : (h+1) * self.filterSize , v * self.filterSize : (v+1) * self.filterSize ])))\n",
    "            \n",
    "            outputTensors.append(tf.reshape(outputTensor,[self.filterPasses,self.filterPasses]))\n",
    "        return tf.pack(outputTensors)\n",
    "        \n",
    "        \n",
    "X = tf.placeholder(\"float\", [imageSize ** 2])\n",
    "Y = tf.placeholder(\"float\", [1,numOutputs])\n",
    "\n",
    "numFilters = 3\n",
    "\n",
    "convLayer_1 = convLayer(numFilters,5,1,imageSize,1)\n",
    "poolLayer_1 = maxPoolingLayer(numFilters,2,convLayer_1.outputSize)\n",
    "\n",
    "convLayer_2 = convLayer(numFilters,5,1,poolLayer_1.outputSize,numFilters)\n",
    "poolLayer_2 = maxPoolingLayer(numFilters,2,convLayer_2.outputSize)\n",
    "\n",
    "feedNetBias = init_weights((1,1))\n",
    "feedW = init_weights((numFilters * poolLayer_2.outputSize ** 2,numOutputs))\n",
    "\n",
    "def Model():\n",
    "    inputReshape = tf.reshape(X,(1,imageSize,imageSize))\n",
    "    \n",
    "    # First Conv Layer\n",
    "    outputConv_1 = convLayer_1.forwardProp(convLayer_1.getAllInputFilters(inputReshape))\n",
    "    outputPool_1 = poolLayer_1.getMaxPool(outputConv_1)\n",
    "    \n",
    "#     # Second Conv Layer\n",
    "    outputConv_2 = convLayer_2.forwardProp(convLayer_2.getAllInputFilters(outputPool_1))\n",
    "    outputPool_2 = poolLayer_2.getMaxPool(outputConv_2)\n",
    "\n",
    "#     return outputConv_2\n",
    "    \n",
    "#     # Feed Net\n",
    "    outputToFeedNet = tf.reshape(outputPool_2,[1,numFilters * poolLayer_2.outputSize ** 2])\n",
    "    return tf.nn.softmax(tf.add(tf.matmul(outputToFeedNet,feedW),feedNetBias))\n",
    "\n",
    "with tf.device('/gpu:0'):\n",
    "    \n",
    "    predY = Model()\n",
    "    print \"123123\"\n",
    "    loss = tf.reduce_sum(tf.square(predY-Y))\n",
    "    print \"asdfqwer1\"\n",
    "    opt = tf.train.GradientDescentOptimizer(learningRate).minimize(loss)\n",
    "    print \"asdfqwer2\"\n",
    "    sess.run(tf.initialize_all_variables())\n",
    "    print(\"running\")\n",
    "\n",
    "    # outputNet = sess.run(model,feed_dict={X:trX[viewImageIndex]})\n",
    "    # print outputNet.shape\n",
    "\n",
    "    losses = []\n",
    "\n",
    "    for epoch_i in range(epoch):\n",
    "        for n,t in enumerate(trX[:250]):\n",
    "            sess.run(opt,feed_dict={X:trX[n],Y:[trY[n]]})\n",
    "\n",
    "        totalLoss = 0\n",
    "        totalCount = 0\n",
    "        for n,t in enumerate(trX[:250]):\n",
    "            totalLoss += sess.run(loss,feed_dict={X:trX[n],Y:[trY[n]]})\n",
    "            totalCount += 1\n",
    "    \n",
    "        lossVal = totalLoss / totalCount\n",
    "        losses.append(lossVal)\n",
    "        print lossVal\n",
    "\n",
    "    plt.plot(range(epoch),losses, 'b',label='loss')\n",
    "    plt.legend()\n",
    "    plt.show()\n",
    "\n",
    "# outputNet = sess.run(tf.constant([1,2,3,4]))\n",
    "# print outputNet"
   ]
  },
  {
   "cell_type": "code",
   "execution_count": null,
   "metadata": {
    "collapsed": true
   },
   "outputs": [],
   "source": []
  },
  {
   "cell_type": "code",
   "execution_count": null,
   "metadata": {
    "collapsed": true
   },
   "outputs": [],
   "source": []
  }
 ],
 "metadata": {
  "kernelspec": {
   "display_name": "Python 2",
   "language": "python",
   "name": "python2"
  },
  "language_info": {
   "codemirror_mode": {
    "name": "ipython",
    "version": 2
   },
   "file_extension": ".py",
   "mimetype": "text/x-python",
   "name": "python",
   "nbconvert_exporter": "python",
   "pygments_lexer": "ipython2",
   "version": "2.7.6"
  }
 },
 "nbformat": 4,
 "nbformat_minor": 1
}
